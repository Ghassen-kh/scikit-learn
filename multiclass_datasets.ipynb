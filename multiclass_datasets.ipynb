{
 "metadata": {
  "language_info": {
   "codemirror_mode": {
    "name": "ipython",
    "version": 3
   },
   "file_extension": ".py",
   "mimetype": "text/x-python",
   "name": "python",
   "nbconvert_exporter": "python",
   "pygments_lexer": "ipython3",
   "version": "3.8.5"
  },
  "orig_nbformat": 2,
  "kernelspec": {
   "name": "python385jvsc74a57bd0916dbcbb3f70747c44a77c7bcd40155683ae19c65e1c03b4aa3499c5328201f1",
   "display_name": "Python 3.8.5 64-bit"
  },
  "metadata": {
   "interpreter": {
    "hash": "31f2aee4e71d21fbe5cf8b01ff0e069b9275f58929596ceb00d14d90e3e16cd6"
   }
  }
 },
 "nbformat": 4,
 "nbformat_minor": 2,
 "cells": [
  {
   "cell_type": "code",
   "execution_count": 2,
   "metadata": {},
   "outputs": [
    {
     "output_type": "execute_result",
     "data": {
      "text/plain": [
       "array(['setosa', 'versicolor', 'virginica'], dtype='<U10')"
      ]
     },
     "metadata": {},
     "execution_count": 2
    }
   ],
   "source": [
    "from sklearn.datasets import load_iris \n",
    "from sklearn.model_selection import train_test_split \n",
    "from sklearn.ensemble import GradientBoostingClassifier\n",
    "iris = load_iris()\n",
    "iris.target_names "
   ]
  },
  {
   "cell_type": "code",
   "execution_count": 3,
   "metadata": {},
   "outputs": [
    {
     "output_type": "execute_result",
     "data": {
      "text/plain": [
       "GradientBoostingClassifier(learning_rate=0.01, random_state=0)"
      ]
     },
     "metadata": {},
     "execution_count": 3
    }
   ],
   "source": [
    "X_train, X_test , y_train , y_test = train_test_split(iris.data, iris.target, random_state=42)\n",
    "gbrt = GradientBoostingClassifier(learning_rate=0.01, random_state=0)\n",
    "gbrt.fit(X_train,y_train)\n",
    " "
   ]
  },
  {
   "cell_type": "code",
   "execution_count": 4,
   "metadata": {},
   "outputs": [
    {
     "output_type": "stream",
     "name": "stdout",
     "text": [
      "The decision function for the 3-class iris dataset : \n\n[[-1.995715    0.04758267 -1.92720695]\n [ 0.06146394 -1.90755736 -1.92793758]\n [-1.99058203 -1.87637861  0.09686725]\n [-1.995715    0.04758267 -1.92720695]\n [-1.99730159 -0.13469108 -1.20341483]\n [ 0.06146394 -1.90755736 -1.92793758]\n [-1.995715    0.04758267 -1.92720695]\n [-1.99677434 -1.87637861  0.09686725]\n [-1.995715    0.04758267 -1.92720695]\n [-1.995715    0.04758267 -1.92720695]]\n"
     ]
    }
   ],
   "source": [
    "print('The decision function for the 3-class iris dataset : \\n\\n{}'.format(gbrt.decision_function(X_test[:10])))"
   ]
  },
  {
   "cell_type": "code",
   "execution_count": 5,
   "metadata": {},
   "outputs": [
    {
     "output_type": "stream",
     "name": "stdout",
     "text": [
      "Predicted probabilities for the amples in the iris dataset:\n\n[[0.10217718 0.78840034 0.10942248]\n [0.78347147 0.10936745 0.10716108]\n [0.09818072 0.11005864 0.79176065]\n [0.10217718 0.78840034 0.10942248]\n [0.10360005 0.66723901 0.22916094]\n [0.78347147 0.10936745 0.10716108]\n [0.10217718 0.78840034 0.10942248]\n [0.09763381 0.11012538 0.79224081]\n [0.10217718 0.78840034 0.10942248]\n [0.10217718 0.78840034 0.10942248]]\n"
     ]
    }
   ],
   "source": [
    "print('Predicted probabilities for the amples in the iris dataset:\\n\\n{}'.format(gbrt.predict_proba(X_test[:10])))"
   ]
  },
  {
   "cell_type": "code",
   "execution_count": 7,
   "metadata": {},
   "outputs": [
    {
     "output_type": "execute_result",
     "data": {
      "text/plain": [
       "array([1, 0, 2, 1, 1, 0, 1, 2, 1, 1])"
      ]
     },
     "metadata": {},
     "execution_count": 7
    }
   ],
   "source": [
    "gbrt.predict(X_test[:10])"
   ]
  },
  {
   "cell_type": "code",
   "execution_count": null,
   "metadata": {},
   "outputs": [],
   "source": []
  }
 ]
}