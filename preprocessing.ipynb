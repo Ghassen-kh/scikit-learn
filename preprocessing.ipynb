{
 "metadata": {
  "language_info": {
   "codemirror_mode": {
    "name": "ipython",
    "version": 3
   },
   "file_extension": ".py",
   "mimetype": "text/x-python",
   "name": "python",
   "nbconvert_exporter": "python",
   "pygments_lexer": "ipython3",
   "version": "3.8.5"
  },
  "orig_nbformat": 2,
  "kernelspec": {
   "name": "python385jvsc74a57bd0916dbcbb3f70747c44a77c7bcd40155683ae19c65e1c03b4aa3499c5328201f1",
   "display_name": "Python 3.8.5 64-bit"
  },
  "metadata": {
   "interpreter": {
    "hash": "31f2aee4e71d21fbe5cf8b01ff0e069b9275f58929596ceb00d14d90e3e16cd6"
   }
  }
 },
 "nbformat": 4,
 "nbformat_minor": 2,
 "cells": [
  {
   "cell_type": "code",
   "execution_count": 2,
   "metadata": {},
   "outputs": [],
   "source": [
    "# Preprocessing : binarization / scaling / normalization / mean removal .. \n",
    "# 1 / Binarization  : turn the numerical values into booleans : first we need to set a threashold   "
   ]
  },
  {
   "cell_type": "code",
   "execution_count": 3,
   "metadata": {},
   "outputs": [],
   "source": [
    "from sklearn import preprocessing \n",
    "import numpy as np \n",
    "\n",
    "data=np.array([[5.3,5.6,0.3],[1.8,0.8,-0.7],[2.9,-5.6,1.4]])"
   ]
  },
  {
   "cell_type": "code",
   "execution_count": 4,
   "metadata": {},
   "outputs": [
    {
     "output_type": "stream",
     "name": "stdout",
     "text": [
      "Binarized data : \n\n [[1. 1. 0.]\n [1. 0. 0.]\n [1. 0. 0.]]\n"
     ]
    }
   ],
   "source": [
    "bindata= preprocessing.Binarizer(threshold=1.5).transform(data)\n",
    "print('Binarized data : \\n\\n',bindata)"
   ]
  },
  {
   "cell_type": "code",
   "execution_count": 5,
   "metadata": {},
   "outputs": [],
   "source": [
    "# 1 / Mean Removal: also known as standardization \n",
    "# When we want feature  to be centered around  0"
   ]
  },
  {
   "cell_type": "code",
   "execution_count": 9,
   "metadata": {},
   "outputs": [
    {
     "output_type": "stream",
     "name": "stdout",
     "text": [
      "Mean (before) =  [3.33333333 0.26666667 0.33333333]\nStandard Deviation (before ) =  [1.46135401 4.58790681 0.85764536]\n"
     ]
    }
   ],
   "source": [
    "print('Mean (before) = ',data.mean(axis=0))\n",
    "print('Standard Deviation (before ) = ',data.std(axis=0))"
   ]
  },
  {
   "cell_type": "code",
   "execution_count": 10,
   "metadata": {},
   "outputs": [
    {
     "output_type": "stream",
     "name": "stdout",
     "text": [
      "Mean (after) =  [-1.66533454e-16  0.00000000e+00  0.00000000e+00]\nStandard Deviation (after) =  [1. 1. 1.]\n"
     ]
    }
   ],
   "source": [
    "scaled_data = preprocessing.scale(data)\n",
    "print('Mean (after) = ',scaled_data.mean(axis=0))\n",
    "print('Standard Deviation (after) = ',scaled_data.std(axis=0))"
   ]
  },
  {
   "cell_type": "code",
   "execution_count": 13,
   "metadata": {},
   "outputs": [],
   "source": [
    "# Scaling : \n",
    "# -Standard Scaler : => features with a mean=0 and a variance = 1 \n",
    "# -MinMax Scaler : => features in a 0 to 1 range \n",
    "# -Normalizer : => feature vector to an Euclidean length = 1   "
   ]
  },
  {
   "cell_type": "code",
   "execution_count": 12,
   "metadata": {},
   "outputs": [
    {
     "output_type": "execute_result",
     "data": {
      "text/plain": [
       "array([[ 5.3,  5.6,  0.3],\n",
       "       [ 1.8,  0.8, -0.7],\n",
       "       [ 2.9, -5.6,  1.4]])"
      ]
     },
     "metadata": {},
     "execution_count": 12
    }
   ],
   "source": [
    "data"
   ]
  },
  {
   "cell_type": "code",
   "execution_count": 14,
   "metadata": {},
   "outputs": [
    {
     "output_type": "stream",
     "name": "stdout",
     "text": [
      "MinMax scaler applied on the data:\n [[1.         1.         0.47619048]\n [0.         0.57142857 0.        ]\n [0.31428571 0.         1.        ]]\n"
     ]
    }
   ],
   "source": [
    "minmax_scaler = preprocessing.MinMaxScaler(feature_range=(0,1))\n",
    "data_minmax = minmax_scaler.fit_transform(data)\n",
    "print('MinMax scaler applied on the data:\\n',data_minmax)"
   ]
  },
  {
   "cell_type": "code",
   "execution_count": 15,
   "metadata": {},
   "outputs": [],
   "source": [
    "# Normalization : bring the values of each feature vector on a common scale \n",
    "# - L1 - Least absolute deviations - sum of absolute values (on each row )=1; it is insensitive to outliers \n",
    "# - L2 - Least squares - sum of squares (on each row )=1; takes outliers in consideration during training"
   ]
  },
  {
   "cell_type": "code",
   "execution_count": 16,
   "metadata": {},
   "outputs": [
    {
     "output_type": "execute_result",
     "data": {
      "text/plain": [
       "array([[ 5.3,  5.6,  0.3],\n",
       "       [ 1.8,  0.8, -0.7],\n",
       "       [ 2.9, -5.6,  1.4]])"
      ]
     },
     "metadata": {},
     "execution_count": 16
    }
   ],
   "source": [
    "data"
   ]
  },
  {
   "cell_type": "code",
   "execution_count": 17,
   "metadata": {},
   "outputs": [
    {
     "output_type": "stream",
     "name": "stdout",
     "text": [
      "L1- normalized data :\n [[ 0.47321429  0.5         0.02678571]\n [ 0.54545455  0.24242424 -0.21212121]\n [ 0.29292929 -0.56565657  0.14141414]]\n\nL2- normalized data :\n [[ 0.68686511  0.72574426  0.03887916]\n [ 0.86105677  0.3826919  -0.33485541]\n [ 0.44892501 -0.86688968  0.21672242]]\n"
     ]
    }
   ],
   "source": [
    "data_l1 = preprocessing.normalize(data,norm='l1')\n",
    "data_l2 = preprocessing.normalize(data,norm='l2')\n",
    "\n",
    "print('L1- normalized data :\\n',data_l1)\n",
    "print('\\nL2- normalized data :\\n',data_l2)"
   ]
  },
  {
   "cell_type": "code",
   "execution_count": 18,
   "metadata": {},
   "outputs": [
    {
     "output_type": "execute_result",
     "data": {
      "text/plain": [
       "1.0"
      ]
     },
     "metadata": {},
     "execution_count": 18
    }
   ],
   "source": [
    "0.54545455+0.24242424+0.21212121"
   ]
  },
  {
   "cell_type": "code",
   "execution_count": 19,
   "metadata": {},
   "outputs": [
    {
     "output_type": "execute_result",
     "data": {
      "text/plain": [
       "0.9999999993405653"
      ]
     },
     "metadata": {},
     "execution_count": 19
    }
   ],
   "source": [
    "0.68686511**2  +0.72574426**2+  0.03887916**2"
   ]
  },
  {
   "cell_type": "code",
   "execution_count": null,
   "metadata": {},
   "outputs": [],
   "source": []
  }
 ]
}