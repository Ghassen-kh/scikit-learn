{
 "metadata": {
  "language_info": {
   "codemirror_mode": {
    "name": "ipython",
    "version": 3
   },
   "file_extension": ".py",
   "mimetype": "text/x-python",
   "name": "python",
   "nbconvert_exporter": "python",
   "pygments_lexer": "ipython3",
   "version": "3.8.5"
  },
  "orig_nbformat": 2,
  "kernelspec": {
   "name": "python385jvsc74a57bd0916dbcbb3f70747c44a77c7bcd40155683ae19c65e1c03b4aa3499c5328201f1",
   "display_name": "Python 3.8.5 64-bit"
  },
  "metadata": {
   "interpreter": {
    "hash": "31f2aee4e71d21fbe5cf8b01ff0e069b9275f58929596ceb00d14d90e3e16cd6"
   }
  }
 },
 "nbformat": 4,
 "nbformat_minor": 2,
 "cells": [
  {
   "source": [
    "# in your average ML projects, you use  features and labels to train your algorithm \n",
    "# features provide you need representation for your samples while labels are used to assign the samples to different classes\n",
    "# in the case of the iris dataset, labels are of the form of words, but they can also be numbers , however , algorithms are trained more efficiently when these labels are numerical  "
   ],
   "cell_type": "code",
   "metadata": {},
   "execution_count": 3,
   "outputs": []
  },
  {
   "source": [
    "- setosa -> 0\n",
    "- versicolor -> 1\n",
    "- virginica -> 2"
   ],
   "cell_type": "markdown",
   "metadata": {}
  },
  {
   "cell_type": "code",
   "execution_count": 4,
   "metadata": {},
   "outputs": [],
   "source": [
    "from sklearn import preprocessing \n",
    "labels =['setosa','versicolor','virginica']"
   ]
  },
  {
   "cell_type": "code",
   "execution_count": 5,
   "metadata": {},
   "outputs": [
    {
     "output_type": "stream",
     "name": "stdout",
     "text": [
      "setosa => 0\nversicolor => 1\nvirginica => 2\n"
     ]
    }
   ],
   "source": [
    "encoder = preprocessing.LabelEncoder()\n",
    "encoder.fit(labels)\n",
    "for i , item in enumerate(encoder.classes_):\n",
    "    print(item,'=>',i)"
   ]
  },
  {
   "cell_type": "code",
   "execution_count": 6,
   "metadata": {},
   "outputs": [
    {
     "output_type": "stream",
     "name": "stdout",
     "text": [
      "More labels  =  ['versicolor', 'setosa', 'setosa', 'virginica', 'versicolor', 'versicolor']\nMore labels encoded =  [1, 0, 0, 2, 1, 1]\n"
     ]
    }
   ],
   "source": [
    "more_labels = ['versicolor','setosa','setosa','virginica','versicolor','versicolor' ]\n",
    "more_labels_encoded = encoder.transform(more_labels)\n",
    "\n",
    "print('More labels  = ', more_labels)\n",
    "print('More labels encoded = ',list(more_labels_encoded))"
   ]
  },
  {
   "cell_type": "code",
   "execution_count": null,
   "metadata": {},
   "outputs": [],
   "source": []
  }
 ]
}